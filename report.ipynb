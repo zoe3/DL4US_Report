{
 "cells": [
  {
   "cell_type": "markdown",
   "metadata": {},
   "source": [
    "# 犬と猫の分類\n",
    "- homeworkの精度が90%届かなかった\n",
    "- ResNetの実行\n",
    "- リソース状況の確認\n",
    "- ドラえもんの猫率は何%か？\n",
    "\n",
    "# 次元圧縮\n",
    "- AutoEncoderの実装\n",
    "- PCA,t-SNE\n"
   ]
  }
 ],
 "metadata": {
  "kernelspec": {
   "display_name": "Python 3",
   "language": "python",
   "name": "python3"
  },
  "language_info": {
   "codemirror_mode": {
    "name": "ipython",
    "version": 3
   },
   "file_extension": ".py",
   "mimetype": "text/x-python",
   "name": "python",
   "nbconvert_exporter": "python",
   "pygments_lexer": "ipython3",
   "version": "3.5.2"
  }
 },
 "nbformat": 4,
 "nbformat_minor": 2
}
